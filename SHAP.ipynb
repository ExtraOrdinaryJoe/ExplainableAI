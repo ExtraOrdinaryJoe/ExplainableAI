{
  "nbformat": 4,
  "nbformat_minor": 0,
  "metadata": {
    "colab": {
      "name": "SHAP.ipynb",
      "provenance": []
    },
    "kernelspec": {
      "name": "python3",
      "display_name": "Python 3"
    },
    "language_info": {
      "name": "python"
    }
  },
  "cells": [
    {
      "cell_type": "code",
      "source": [
        "import xgboost\n",
        "import numpy as np\n",
        "import shap"
      ],
      "metadata": {
        "id": "AV1vDBVQ3KrY"
      },
      "execution_count": null,
      "outputs": []
    },
    {
      "cell_type": "code",
      "execution_count": null,
      "metadata": {
        "colab": {
          "base_uri": "https://localhost:8080/"
        },
        "id": "BzlJ92c33GUi",
        "outputId": "bfd29fae-336a-4819-ee53-ae36f8dedd1b"
      },
      "outputs": [
        {
          "output_type": "stream",
          "name": "stdout",
          "text": [
            "Collecting SHAP\n",
            "  Downloading shap-0.40.0-cp37-cp37m-manylinux2010_x86_64.whl (564 kB)\n",
            "\u001b[?25l\r\u001b[K     |▋                               | 10 kB 21.3 MB/s eta 0:00:01\r\u001b[K     |█▏                              | 20 kB 11.0 MB/s eta 0:00:01\r\u001b[K     |█▊                              | 30 kB 8.9 MB/s eta 0:00:01\r\u001b[K     |██▎                             | 40 kB 7.9 MB/s eta 0:00:01\r\u001b[K     |███                             | 51 kB 4.5 MB/s eta 0:00:01\r\u001b[K     |███▌                            | 61 kB 5.2 MB/s eta 0:00:01\r\u001b[K     |████                            | 71 kB 5.4 MB/s eta 0:00:01\r\u001b[K     |████▋                           | 81 kB 4.2 MB/s eta 0:00:01\r\u001b[K     |█████▏                          | 92 kB 4.6 MB/s eta 0:00:01\r\u001b[K     |█████▉                          | 102 kB 5.0 MB/s eta 0:00:01\r\u001b[K     |██████▍                         | 112 kB 5.0 MB/s eta 0:00:01\r\u001b[K     |███████                         | 122 kB 5.0 MB/s eta 0:00:01\r\u001b[K     |███████▌                        | 133 kB 5.0 MB/s eta 0:00:01\r\u001b[K     |████████▏                       | 143 kB 5.0 MB/s eta 0:00:01\r\u001b[K     |████████▊                       | 153 kB 5.0 MB/s eta 0:00:01\r\u001b[K     |█████████▎                      | 163 kB 5.0 MB/s eta 0:00:01\r\u001b[K     |█████████▉                      | 174 kB 5.0 MB/s eta 0:00:01\r\u001b[K     |██████████▍                     | 184 kB 5.0 MB/s eta 0:00:01\r\u001b[K     |███████████                     | 194 kB 5.0 MB/s eta 0:00:01\r\u001b[K     |███████████▋                    | 204 kB 5.0 MB/s eta 0:00:01\r\u001b[K     |████████████▏                   | 215 kB 5.0 MB/s eta 0:00:01\r\u001b[K     |████████████▊                   | 225 kB 5.0 MB/s eta 0:00:01\r\u001b[K     |█████████████▍                  | 235 kB 5.0 MB/s eta 0:00:01\r\u001b[K     |██████████████                  | 245 kB 5.0 MB/s eta 0:00:01\r\u001b[K     |██████████████▌                 | 256 kB 5.0 MB/s eta 0:00:01\r\u001b[K     |███████████████                 | 266 kB 5.0 MB/s eta 0:00:01\r\u001b[K     |███████████████▋                | 276 kB 5.0 MB/s eta 0:00:01\r\u001b[K     |████████████████▎               | 286 kB 5.0 MB/s eta 0:00:01\r\u001b[K     |████████████████▉               | 296 kB 5.0 MB/s eta 0:00:01\r\u001b[K     |█████████████████▍              | 307 kB 5.0 MB/s eta 0:00:01\r\u001b[K     |██████████████████              | 317 kB 5.0 MB/s eta 0:00:01\r\u001b[K     |██████████████████▋             | 327 kB 5.0 MB/s eta 0:00:01\r\u001b[K     |███████████████████▏            | 337 kB 5.0 MB/s eta 0:00:01\r\u001b[K     |███████████████████▊            | 348 kB 5.0 MB/s eta 0:00:01\r\u001b[K     |████████████████████▎           | 358 kB 5.0 MB/s eta 0:00:01\r\u001b[K     |████████████████████▉           | 368 kB 5.0 MB/s eta 0:00:01\r\u001b[K     |█████████████████████▌          | 378 kB 5.0 MB/s eta 0:00:01\r\u001b[K     |██████████████████████          | 389 kB 5.0 MB/s eta 0:00:01\r\u001b[K     |██████████████████████▋         | 399 kB 5.0 MB/s eta 0:00:01\r\u001b[K     |███████████████████████▏        | 409 kB 5.0 MB/s eta 0:00:01\r\u001b[K     |███████████████████████▉        | 419 kB 5.0 MB/s eta 0:00:01\r\u001b[K     |████████████████████████▍       | 430 kB 5.0 MB/s eta 0:00:01\r\u001b[K     |█████████████████████████       | 440 kB 5.0 MB/s eta 0:00:01\r\u001b[K     |█████████████████████████▌      | 450 kB 5.0 MB/s eta 0:00:01\r\u001b[K     |██████████████████████████      | 460 kB 5.0 MB/s eta 0:00:01\r\u001b[K     |██████████████████████████▊     | 471 kB 5.0 MB/s eta 0:00:01\r\u001b[K     |███████████████████████████▎    | 481 kB 5.0 MB/s eta 0:00:01\r\u001b[K     |███████████████████████████▉    | 491 kB 5.0 MB/s eta 0:00:01\r\u001b[K     |████████████████████████████▍   | 501 kB 5.0 MB/s eta 0:00:01\r\u001b[K     |█████████████████████████████   | 512 kB 5.0 MB/s eta 0:00:01\r\u001b[K     |█████████████████████████████▋  | 522 kB 5.0 MB/s eta 0:00:01\r\u001b[K     |██████████████████████████████▏ | 532 kB 5.0 MB/s eta 0:00:01\r\u001b[K     |██████████████████████████████▊ | 542 kB 5.0 MB/s eta 0:00:01\r\u001b[K     |███████████████████████████████▎| 552 kB 5.0 MB/s eta 0:00:01\r\u001b[K     |████████████████████████████████| 563 kB 5.0 MB/s eta 0:00:01\r\u001b[K     |████████████████████████████████| 564 kB 5.0 MB/s \n",
            "\u001b[?25hRequirement already satisfied: packaging>20.9 in /usr/local/lib/python3.7/dist-packages (from SHAP) (21.3)\n",
            "Requirement already satisfied: scikit-learn in /usr/local/lib/python3.7/dist-packages (from SHAP) (1.0.2)\n",
            "Requirement already satisfied: pandas in /usr/local/lib/python3.7/dist-packages (from SHAP) (1.3.5)\n",
            "Requirement already satisfied: cloudpickle in /usr/local/lib/python3.7/dist-packages (from SHAP) (1.3.0)\n",
            "Requirement already satisfied: numpy in /usr/local/lib/python3.7/dist-packages (from SHAP) (1.21.6)\n",
            "Requirement already satisfied: numba in /usr/local/lib/python3.7/dist-packages (from SHAP) (0.51.2)\n",
            "Collecting slicer==0.0.7\n",
            "  Downloading slicer-0.0.7-py3-none-any.whl (14 kB)\n",
            "Requirement already satisfied: scipy in /usr/local/lib/python3.7/dist-packages (from SHAP) (1.4.1)\n",
            "Requirement already satisfied: tqdm>4.25.0 in /usr/local/lib/python3.7/dist-packages (from SHAP) (4.64.0)\n",
            "Requirement already satisfied: pyparsing!=3.0.5,>=2.0.2 in /usr/local/lib/python3.7/dist-packages (from packaging>20.9->SHAP) (3.0.8)\n",
            "Requirement already satisfied: llvmlite<0.35,>=0.34.0.dev0 in /usr/local/lib/python3.7/dist-packages (from numba->SHAP) (0.34.0)\n",
            "Requirement already satisfied: setuptools in /usr/local/lib/python3.7/dist-packages (from numba->SHAP) (57.4.0)\n",
            "Requirement already satisfied: python-dateutil>=2.7.3 in /usr/local/lib/python3.7/dist-packages (from pandas->SHAP) (2.8.2)\n",
            "Requirement already satisfied: pytz>=2017.3 in /usr/local/lib/python3.7/dist-packages (from pandas->SHAP) (2022.1)\n",
            "Requirement already satisfied: six>=1.5 in /usr/local/lib/python3.7/dist-packages (from python-dateutil>=2.7.3->pandas->SHAP) (1.15.0)\n",
            "Requirement already satisfied: joblib>=0.11 in /usr/local/lib/python3.7/dist-packages (from scikit-learn->SHAP) (1.1.0)\n",
            "Requirement already satisfied: threadpoolctl>=2.0.0 in /usr/local/lib/python3.7/dist-packages (from scikit-learn->SHAP) (3.1.0)\n",
            "Installing collected packages: slicer, SHAP\n",
            "Successfully installed SHAP-0.40.0 slicer-0.0.7\n"
          ]
        }
      ],
      "source": [
        "! pip install SHAP"
      ]
    },
    {
      "cell_type": "code",
      "source": [
        "# simulate some binary data and a linear outcome with an interaction term\n",
        "# note we make the features in X perfectly independent of each other to make\n",
        "# it easy to solve for the exact SHAP values\n",
        "N = 2000\n",
        "X = np.zeros((N,5))\n",
        "X[:1000,0] = 1\n",
        "X[:500,1] = 1\n",
        "X[1000:1500,1] = 1\n",
        "X[:250,2] = 1\n",
        "X[500:750,2] = 1\n",
        "X[1000:1250,2] = 1\n",
        "X[1500:1750,2] = 1\n",
        "X[:,0:3] -= 0.5\n",
        "y = 2*X[:,0] - 3*X[:,1]"
      ],
      "metadata": {
        "id": "uETrKkMc3Sp0"
      },
      "execution_count": null,
      "outputs": []
    },
    {
      "cell_type": "code",
      "source": [
        "# train a model with single tree\n",
        "Xd = xgboost.DMatrix(X, label=y)\n",
        "model = xgboost.train({\n",
        "    'eta':1, 'max_depth':3, 'base_score': 0, \"lambda\": 0\n",
        "}, Xd, 1)\n",
        "print(\"Model error =\", np.linalg.norm(y-model.predict(Xd)))\n",
        "print(model.get_dump(with_stats=True)[0])"
      ],
      "metadata": {
        "colab": {
          "base_uri": "https://localhost:8080/"
        },
        "id": "NSay1hUS3WVr",
        "outputId": "1c3ccfa2-0075-47d0-a5ce-bd4d20cc4652"
      },
      "execution_count": null,
      "outputs": [
        {
          "output_type": "stream",
          "name": "stdout",
          "text": [
            "Model error = 0.0\n",
            "0:[f1<0] yes=1,no=2,missing=1,gain=4500,cover=2000\n",
            "\t1:[f0<0] yes=3,no=4,missing=3,gain=1000,cover=1000\n",
            "\t\t3:leaf=0.5,cover=500\n",
            "\t\t4:leaf=2.5,cover=500\n",
            "\t2:[f0<0] yes=5,no=6,missing=5,gain=1000,cover=1000\n",
            "\t\t5:leaf=-2.5,cover=500\n",
            "\t\t6:leaf=-0.5,cover=500\n",
            "\n"
          ]
        }
      ]
    },
    {
      "cell_type": "code",
      "source": [
        "# make sure the SHAP values add up to marginal predictions\n",
        "pred = model.predict(Xd, output_margin=True)\n",
        "explainer = shap.TreeExplainer(model)\n",
        "shap_values = explainer.shap_values(Xd)\n",
        "np.abs(shap_values.sum(1) + explainer.expected_value - pred).max()"
      ],
      "metadata": {
        "colab": {
          "base_uri": "https://localhost:8080/"
        },
        "id": "_1IEic1S3cPZ",
        "outputId": "82763ca1-e5db-4709-87f4-3c42b4d58444"
      },
      "execution_count": null,
      "outputs": [
        {
          "output_type": "execute_result",
          "data": {
            "text/plain": [
              "0.0"
            ]
          },
          "metadata": {},
          "execution_count": 5
        }
      ]
    },
    {
      "cell_type": "code",
      "source": [
        "shap.summary_plot(shap_values, X)"
      ],
      "metadata": {
        "colab": {
          "base_uri": "https://localhost:8080/",
          "height": 259
        },
        "id": "CHBkOcZY3gCj",
        "outputId": "86e1acf6-fc95-4900-94d2-dd1b14e73be4"
      },
      "execution_count": null,
      "outputs": [
        {
          "output_type": "display_data",
          "data": {
            "text/plain": [
              "<Figure size 576x252 with 2 Axes>"
            ],
            "image/png": "[encoded data removed]"
          },
          "metadata": {
            "needs_background": "light"
          }
        }
      ]
    },
    {
      "cell_type": "code",
      "source": [
        "# train a linear model\n",
        "from sklearn import linear_model\n",
        "lr = linear_model.LinearRegression()\n",
        "lr.fit(X, y)\n",
        "lr_pred = lr.predict(X)\n",
        "lr.coef_.round(2)"
      ],
      "metadata": {
        "colab": {
          "base_uri": "https://localhost:8080/"
        },
        "id": "CZ4GsDwO3jgS",
        "outputId": "a760270d-b452-48fd-f602-b848213c7335"
      },
      "execution_count": null,
      "outputs": [
        {
          "output_type": "execute_result",
          "data": {
            "text/plain": [
              "array([ 2., -3., -0.,  0.,  0.])"
            ]
          },
          "metadata": {},
          "execution_count": 7
        }
      ]
    },
    {
      "cell_type": "code",
      "source": [
        "# Make sure the computed SHAP values match the true SHAP values\n",
        "# (we can compute the true SHAP values directly for this simple case)\n",
        "main_effect_shap_values = lr.coef_ * (X - X.mean(0))\n",
        "np.linalg.norm(shap_values - main_effect_shap_values)"
      ],
      "metadata": {
        "id": "sQl8FDtr3mcv",
        "outputId": "19882020-32bf-4b0c-a7cc-af592e9653c4",
        "colab": {
          "base_uri": "https://localhost:8080/"
        }
      },
      "execution_count": null,
      "outputs": [
        {
          "output_type": "execute_result",
          "data": {
            "text/plain": [
              "1.6542433490447965e-13"
            ]
          },
          "metadata": {},
          "execution_count": 8
        }
      ]
    },
    {
      "cell_type": "code",
      "source": [
        ""
      ],
      "metadata": {
        "id": "f-GeHXGj3pDo"
      },
      "execution_count": null,
      "outputs": []
    }
  ]
}