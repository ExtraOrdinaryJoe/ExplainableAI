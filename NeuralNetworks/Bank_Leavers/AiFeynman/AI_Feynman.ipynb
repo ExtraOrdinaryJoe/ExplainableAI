{
  "nbformat": 4,
  "nbformat_minor": 0,
  "metadata": {
    "colab": {
      "name": "AI_Feynman.ipynb",
      "provenance": [],
      "collapsed_sections": []
    },
    "kernelspec": {
      "name": "python3",
      "display_name": "Python 3"
    },
    "language_info": {
      "name": "python"
    }
  },
  "cells": [
    {
      "cell_type": "code",
      "execution_count": null,
      "metadata": {
        "id": "F3kS5AdSyYIW"
      },
      "outputs": [],
      "source": [
        "git clone https://github.com/SJ001/AI-Feynman.git\n",
        "# fix the requirements.txt if it is still broken (full details in the notebook I supplied above)\n",
        "pip install -r AI-Feynman/requirements.txt\n",
        "# Make sure gfortran is installed\n",
        "gfortran --version\n",
        "sudo apt-get install csh\n",
        "# Fix permission issue if it is still a problem in the version you cloned\n",
        "chmod +777 AI-Feynman/Code/*\n",
        "# Compile\n",
        "cd AI-Feynman/Code/ && ./compile.sh"
      ]
    },
    {
      "cell_type": "code",
      "source": [
        "! pip install "
      ],
      "metadata": {
        "id": "jTuoT6Yp2Uy_"
      },
      "execution_count": null,
      "outputs": []
    },
    {
      "cell_type": "code",
      "source": [
        "! git clone https://github.com/SJ001/AI-Feynman.git"
      ],
      "metadata": {
        "colab": {
          "base_uri": "https://localhost:8080/"
        },
        "id": "oosQVlkQyilV",
        "outputId": "9699d8a6-8df2-41c3-afee-108a9902fa16"
      },
      "execution_count": 1,
      "outputs": [
        {
          "output_type": "stream",
          "name": "stdout",
          "text": [
            "Cloning into 'AI-Feynman'...\n",
            "remote: Enumerating objects: 525, done.\u001b[K\n",
            "remote: Counting objects: 100% (32/32), done.\u001b[K\n",
            "remote: Compressing objects: 100% (23/23), done.\u001b[K\n",
            "remote: Total 525 (delta 11), reused 28 (delta 9), pack-reused 493\u001b[K\n",
            "Receiving objects: 100% (525/525), 31.36 MiB | 12.89 MiB/s, done.\n",
            "Resolving deltas: 100% (318/318), done.\n"
          ]
        }
      ]
    },
    {
      "cell_type": "code",
      "source": [
        "pip install -r AI-Feynman/requirements.txt"
      ],
      "metadata": {
        "colab": {
          "base_uri": "https://localhost:8080/"
        },
        "id": "Bw9Y5HESyjlQ",
        "outputId": "ae75fd08-7776-4b29-ca8e-f7a9b1585574"
      },
      "execution_count": 6,
      "outputs": [
        {
          "output_type": "stream",
          "name": "stdout",
          "text": [
            "Requirement already satisfied: torch>=1.4.0 in /usr/local/lib/python3.7/dist-packages (from -r AI-Feynman/requirements.txt (line 1)) (1.11.0+cu113)\n",
            "Requirement already satisfied: matplotlib in /usr/local/lib/python3.7/dist-packages (from -r AI-Feynman/requirements.txt (line 2)) (3.2.2)\n",
            "Collecting sympy==1.4\n",
            "  Using cached sympy-1.4-py2.py3-none-any.whl (5.3 MB)\n",
            "Requirement already satisfied: pandas in /usr/local/lib/python3.7/dist-packages (from -r AI-Feynman/requirements.txt (line 4)) (1.3.5)\n",
            "Requirement already satisfied: scipy in /usr/local/lib/python3.7/dist-packages (from -r AI-Feynman/requirements.txt (line 5)) (1.4.1)\n",
            "Requirement already satisfied: sortedcontainers in /usr/local/lib/python3.7/dist-packages (from -r AI-Feynman/requirements.txt (line 6)) (2.4.0)\n",
            "Requirement already satisfied: mpmath>=0.19 in /usr/local/lib/python3.7/dist-packages (from sympy==1.4->-r AI-Feynman/requirements.txt (line 3)) (1.2.1)\n",
            "Requirement already satisfied: typing-extensions in /usr/local/lib/python3.7/dist-packages (from torch>=1.4.0->-r AI-Feynman/requirements.txt (line 1)) (4.2.0)\n",
            "Requirement already satisfied: numpy>=1.11 in /usr/local/lib/python3.7/dist-packages (from matplotlib->-r AI-Feynman/requirements.txt (line 2)) (1.21.6)\n",
            "Requirement already satisfied: cycler>=0.10 in /usr/local/lib/python3.7/dist-packages (from matplotlib->-r AI-Feynman/requirements.txt (line 2)) (0.11.0)\n",
            "Requirement already satisfied: pyparsing!=2.0.4,!=2.1.2,!=2.1.6,>=2.0.1 in /usr/local/lib/python3.7/dist-packages (from matplotlib->-r AI-Feynman/requirements.txt (line 2)) (3.0.8)\n",
            "Requirement already satisfied: kiwisolver>=1.0.1 in /usr/local/lib/python3.7/dist-packages (from matplotlib->-r AI-Feynman/requirements.txt (line 2)) (1.4.2)\n",
            "Requirement already satisfied: python-dateutil>=2.1 in /usr/local/lib/python3.7/dist-packages (from matplotlib->-r AI-Feynman/requirements.txt (line 2)) (2.8.2)\n",
            "Requirement already satisfied: six>=1.5 in /usr/local/lib/python3.7/dist-packages (from python-dateutil>=2.1->matplotlib->-r AI-Feynman/requirements.txt (line 2)) (1.15.0)\n",
            "Requirement already satisfied: pytz>=2017.3 in /usr/local/lib/python3.7/dist-packages (from pandas->-r AI-Feynman/requirements.txt (line 4)) (2022.1)\n",
            "Installing collected packages: sympy\n",
            "  Attempting uninstall: sympy\n",
            "    Found existing installation: sympy 1.7.1\n",
            "    Uninstalling sympy-1.7.1:\n",
            "      Successfully uninstalled sympy-1.7.1\n",
            "Successfully installed sympy-1.4\n"
          ]
        }
      ]
    },
    {
      "cell_type": "code",
      "source": [
        "! sudo apt-get install gfortran"
      ],
      "metadata": {
        "colab": {
          "base_uri": "https://localhost:8080/"
        },
        "id": "Eib3DPTLypfw",
        "outputId": "6cd0dd30-6a3d-48d6-a817-7793835071a1"
      },
      "execution_count": 5,
      "outputs": [
        {
          "output_type": "stream",
          "name": "stdout",
          "text": [
            "Reading package lists... Done\n",
            "Building dependency tree       \n",
            "Reading state information... Done\n",
            "gfortran is already the newest version (4:7.4.0-1ubuntu2.3).\n",
            "The following packages were automatically installed and are no longer required:\n",
            "  libnvidia-common-460 nsight-compute-2020.2.0\n",
            "Use 'sudo apt autoremove' to remove them.\n",
            "0 upgraded, 0 newly installed, 0 to remove and 42 not upgraded.\n"
          ]
        }
      ]
    },
    {
      "cell_type": "code",
      "source": [
        "! gfortran --version"
      ],
      "metadata": {
        "colab": {
          "base_uri": "https://localhost:8080/"
        },
        "id": "M17MllY7zLcT",
        "outputId": "da08cad4-0ae5-4347-97c9-4b067ea3a331"
      },
      "execution_count": 7,
      "outputs": [
        {
          "output_type": "stream",
          "name": "stdout",
          "text": [
            "GNU Fortran (Ubuntu 7.5.0-3ubuntu1~18.04) 7.5.0\n",
            "Copyright (C) 2017 Free Software Foundation, Inc.\n",
            "This is free software; see the source for copying conditions.  There is NO\n",
            "warranty; not even for MERCHANTABILITY or FITNESS FOR A PARTICULAR PURPOSE.\n",
            "\n"
          ]
        }
      ]
    },
    {
      "cell_type": "code",
      "source": [
        "! sudo apt-get install csh"
      ],
      "metadata": {
        "colab": {
          "base_uri": "https://localhost:8080/"
        },
        "id": "7Z6EmIWCzXIH",
        "outputId": "2cc64769-7316-443d-8d6a-60ad380cc620"
      },
      "execution_count": 8,
      "outputs": [
        {
          "output_type": "stream",
          "name": "stdout",
          "text": [
            "Reading package lists... Done\n",
            "Building dependency tree       \n",
            "Reading state information... Done\n",
            "The following packages were automatically installed and are no longer required:\n",
            "  libnvidia-common-460 nsight-compute-2020.2.0\n",
            "Use 'sudo apt autoremove' to remove them.\n",
            "The following NEW packages will be installed:\n",
            "  csh\n",
            "0 upgraded, 1 newly installed, 0 to remove and 42 not upgraded.\n",
            "Need to get 243 kB of archives.\n",
            "After this operation, 358 kB of additional disk space will be used.\n",
            "Get:1 http://archive.ubuntu.com/ubuntu bionic-updates/universe amd64 csh amd64 20110502-3ubuntu0.18.04.1 [243 kB]\n",
            "Fetched 243 kB in 1s (407 kB/s)\n",
            "debconf: unable to initialize frontend: Dialog\n",
            "debconf: (No usable dialog-like program is installed, so the dialog based frontend cannot be used. at /usr/share/perl5/Debconf/FrontEnd/Dialog.pm line 76, <> line 1.)\n",
            "debconf: falling back to frontend: Readline\n",
            "debconf: unable to initialize frontend: Readline\n",
            "debconf: (This frontend requires a controlling tty.)\n",
            "debconf: falling back to frontend: Teletype\n",
            "dpkg-preconfigure: unable to re-open stdin: \n",
            "Selecting previously unselected package csh.\n",
            "(Reading database ... 155203 files and directories currently installed.)\n",
            "Preparing to unpack .../csh_20110502-3ubuntu0.18.04.1_amd64.deb ...\n",
            "Unpacking csh (20110502-3ubuntu0.18.04.1) ...\n",
            "Setting up csh (20110502-3ubuntu0.18.04.1) ...\n",
            "update-alternatives: using /bin/bsd-csh to provide /bin/csh (csh) in auto mode\n",
            "Processing triggers for man-db (2.8.3-2ubuntu0.1) ...\n"
          ]
        }
      ]
    },
    {
      "cell_type": "code",
      "source": [
        "! chmod +777 AI-Feynman/Code/*"
      ],
      "metadata": {
        "id": "hOry_B9MzZfu"
      },
      "execution_count": 38,
      "outputs": []
    },
    {
      "cell_type": "code",
      "source": [
        "! pwd"
      ],
      "metadata": {
        "colab": {
          "base_uri": "https://localhost:8080/"
        },
        "id": "vjXwF4dJ0YKM",
        "outputId": "a3e37232-99c7-430f-a794-f7a043643a82"
      },
      "execution_count": 27,
      "outputs": [
        {
          "output_type": "stream",
          "name": "stdout",
          "text": [
            "/content\n"
          ]
        }
      ]
    },
    {
      "cell_type": "markdown",
      "source": [
        ""
      ],
      "metadata": {
        "id": "aCuRoD3x1cWX"
      }
    },
    {
      "cell_type": "code",
      "source": [
        "! mkdir AI-Feynman/Code"
      ],
      "metadata": {
        "id": "JgtQA_7R1FYd"
      },
      "execution_count": 28,
      "outputs": []
    },
    {
      "cell_type": "code",
      "source": [
        "!cd /content/AI-Feynman/Code/ && ./compile.sh"
      ],
      "metadata": {
        "colab": {
          "base_uri": "https://localhost:8080/"
        },
        "id": "hIVCXe701KEW",
        "outputId": "d5d266c7-8898-4bc4-bc14-94c3ff071a7a"
      },
      "execution_count": 40,
      "outputs": [
        {
          "output_type": "stream",
          "name": "stdout",
          "text": [
            "/bin/bash: ./compile.sh: No such file or directory\n"
          ]
        }
      ]
    },
    {
      "cell_type": "code",
      "source": [
        "! pip install aifeynman"
      ],
      "metadata": {
        "colab": {
          "base_uri": "https://localhost:8080/"
        },
        "id": "G5xFJzqy4qxn",
        "outputId": "d7d981b3-fb9c-453e-9f9e-71b5bb8d3622"
      },
      "execution_count": 41,
      "outputs": [
        {
          "output_type": "stream",
          "name": "stdout",
          "text": [
            "Collecting aifeynman\n",
            "  Downloading aifeynman-2.0.7.tar.gz (219 kB)\n",
            "\u001b[?25l\r\u001b[K     |█▌                              | 10 kB 19.2 MB/s eta 0:00:01\r\u001b[K     |███                             | 20 kB 19.8 MB/s eta 0:00:01\r\u001b[K     |████▌                           | 30 kB 15.6 MB/s eta 0:00:01\r\u001b[K     |██████                          | 40 kB 7.8 MB/s eta 0:00:01\r\u001b[K     |███████▌                        | 51 kB 7.7 MB/s eta 0:00:01\r\u001b[K     |█████████                       | 61 kB 9.0 MB/s eta 0:00:01\r\u001b[K     |██████████▍                     | 71 kB 8.5 MB/s eta 0:00:01\r\u001b[K     |████████████                    | 81 kB 8.8 MB/s eta 0:00:01\r\u001b[K     |█████████████▍                  | 92 kB 9.7 MB/s eta 0:00:01\r\u001b[K     |███████████████                 | 102 kB 8.5 MB/s eta 0:00:01\r\u001b[K     |████████████████▍               | 112 kB 8.5 MB/s eta 0:00:01\r\u001b[K     |█████████████████▉              | 122 kB 8.5 MB/s eta 0:00:01\r\u001b[K     |███████████████████▍            | 133 kB 8.5 MB/s eta 0:00:01\r\u001b[K     |████████████████████▉           | 143 kB 8.5 MB/s eta 0:00:01\r\u001b[K     |██████████████████████▍         | 153 kB 8.5 MB/s eta 0:00:01\r\u001b[K     |███████████████████████▉        | 163 kB 8.5 MB/s eta 0:00:01\r\u001b[K     |█████████████████████████▎      | 174 kB 8.5 MB/s eta 0:00:01\r\u001b[K     |██████████████████████████▉     | 184 kB 8.5 MB/s eta 0:00:01\r\u001b[K     |████████████████████████████▎   | 194 kB 8.5 MB/s eta 0:00:01\r\u001b[K     |█████████████████████████████▉  | 204 kB 8.5 MB/s eta 0:00:01\r\u001b[K     |███████████████████████████████▎| 215 kB 8.5 MB/s eta 0:00:01\r\u001b[K     |████████████████████████████████| 219 kB 8.5 MB/s \n",
            "\u001b[?25hRequirement already satisfied: matplotlib in /usr/local/lib/python3.7/dist-packages (from aifeynman) (3.2.2)\n",
            "Requirement already satisfied: numpy in /usr/local/lib/python3.7/dist-packages (from aifeynman) (1.21.6)\n",
            "Requirement already satisfied: seaborn in /usr/local/lib/python3.7/dist-packages (from aifeynman) (0.11.2)\n",
            "Requirement already satisfied: sklearn in /usr/local/lib/python3.7/dist-packages (from aifeynman) (0.0)\n",
            "Requirement already satisfied: sortedcontainers in /usr/local/lib/python3.7/dist-packages (from aifeynman) (2.4.0)\n",
            "Requirement already satisfied: sympy>=1.4 in /usr/local/lib/python3.7/dist-packages (from aifeynman) (1.4)\n",
            "Requirement already satisfied: torch>=1.4.0 in /usr/local/lib/python3.7/dist-packages (from aifeynman) (1.11.0+cu113)\n",
            "Requirement already satisfied: torchvision in /usr/local/lib/python3.7/dist-packages (from aifeynman) (0.12.0+cu113)\n",
            "Requirement already satisfied: mpmath>=0.19 in /usr/local/lib/python3.7/dist-packages (from sympy>=1.4->aifeynman) (1.2.1)\n",
            "Requirement already satisfied: typing-extensions in /usr/local/lib/python3.7/dist-packages (from torch>=1.4.0->aifeynman) (4.2.0)\n",
            "Requirement already satisfied: cycler>=0.10 in /usr/local/lib/python3.7/dist-packages (from matplotlib->aifeynman) (0.11.0)\n",
            "Requirement already satisfied: kiwisolver>=1.0.1 in /usr/local/lib/python3.7/dist-packages (from matplotlib->aifeynman) (1.4.2)\n",
            "Requirement already satisfied: python-dateutil>=2.1 in /usr/local/lib/python3.7/dist-packages (from matplotlib->aifeynman) (2.8.2)\n",
            "Requirement already satisfied: pyparsing!=2.0.4,!=2.1.2,!=2.1.6,>=2.0.1 in /usr/local/lib/python3.7/dist-packages (from matplotlib->aifeynman) (3.0.8)\n",
            "Requirement already satisfied: six>=1.5 in /usr/local/lib/python3.7/dist-packages (from python-dateutil>=2.1->matplotlib->aifeynman) (1.15.0)\n",
            "Requirement already satisfied: pandas>=0.23 in /usr/local/lib/python3.7/dist-packages (from seaborn->aifeynman) (1.3.5)\n",
            "Requirement already satisfied: scipy>=1.0 in /usr/local/lib/python3.7/dist-packages (from seaborn->aifeynman) (1.4.1)\n",
            "Requirement already satisfied: pytz>=2017.3 in /usr/local/lib/python3.7/dist-packages (from pandas>=0.23->seaborn->aifeynman) (2022.1)\n",
            "Requirement already satisfied: scikit-learn in /usr/local/lib/python3.7/dist-packages (from sklearn->aifeynman) (1.0.2)\n",
            "Requirement already satisfied: joblib>=0.11 in /usr/local/lib/python3.7/dist-packages (from scikit-learn->sklearn->aifeynman) (1.1.0)\n",
            "Requirement already satisfied: threadpoolctl>=2.0.0 in /usr/local/lib/python3.7/dist-packages (from scikit-learn->sklearn->aifeynman) (3.1.0)\n",
            "Requirement already satisfied: requests in /usr/local/lib/python3.7/dist-packages (from torchvision->aifeynman) (2.23.0)\n",
            "Requirement already satisfied: pillow!=8.3.*,>=5.3.0 in /usr/local/lib/python3.7/dist-packages (from torchvision->aifeynman) (7.1.2)\n",
            "Requirement already satisfied: certifi>=2017.4.17 in /usr/local/lib/python3.7/dist-packages (from requests->torchvision->aifeynman) (2021.10.8)\n",
            "Requirement already satisfied: chardet<4,>=3.0.2 in /usr/local/lib/python3.7/dist-packages (from requests->torchvision->aifeynman) (3.0.4)\n",
            "Requirement already satisfied: urllib3!=1.25.0,!=1.25.1,<1.26,>=1.21.1 in /usr/local/lib/python3.7/dist-packages (from requests->torchvision->aifeynman) (1.24.3)\n",
            "Requirement already satisfied: idna<3,>=2.5 in /usr/local/lib/python3.7/dist-packages (from requests->torchvision->aifeynman) (2.10)\n",
            "Building wheels for collected packages: aifeynman\n",
            "  Building wheel for aifeynman (setup.py) ... \u001b[?25l\u001b[?25hdone\n",
            "  Created wheel for aifeynman: filename=aifeynman-2.0.7-cp37-cp37m-linux_x86_64.whl size=873879 sha256=45a627ad3b6564b87e630e1b60fe288e4b66dafed3e3188a756003f267231223\n",
            "  Stored in directory: /root/.cache/pip/wheels/c3/51/dc/f385966c690f4ae7b645205b5effcb67fd6eccef022053b0fe\n",
            "Successfully built aifeynman\n",
            "Installing collected packages: aifeynman\n",
            "Successfully installed aifeynman-2.0.7\n"
          ]
        }
      ]
    },
    {
      "cell_type": "code",
      "source": [
        "import aifeynman\n",
        "\n",
        "aifeynman.get_demos(\"example_data\") # Download examples from server"
      ],
      "metadata": {
        "colab": {
          "base_uri": "https://localhost:8080/"
        },
        "id": "1onJGbtH1zzj",
        "outputId": "c0d3cf10-a3f5-4fef-84e6-53028c028c80"
      },
      "execution_count": 42,
      "outputs": [
        {
          "output_type": "stream",
          "name": "stdout",
          "text": [
            "downloading...\n",
            "example1.txt\n",
            "https://space.mit.edu/home/tegmark/aifeynman/example_data/example1.txt\n",
            "example_data/example1.txt\n",
            "example2.txt\n",
            "https://space.mit.edu/home/tegmark/aifeynman/example_data/example2.txt\n",
            "example_data/example2.txt\n",
            "example3.txt\n",
            "https://space.mit.edu/home/tegmark/aifeynman/example_data/example3.txt\n",
            "example_data/example3.txt\n"
          ]
        }
      ]
    },
    {
      "cell_type": "code",
      "source": [
        "!pwd"
      ],
      "metadata": {
        "colab": {
          "base_uri": "https://localhost:8080/"
        },
        "id": "OvpudPFa6s1C",
        "outputId": "888e27d6-ba65-4581-95b6-d624880d4c01"
      },
      "execution_count": 46,
      "outputs": [
        {
          "output_type": "stream",
          "name": "stdout",
          "text": [
            "/content\n"
          ]
        }
      ]
    },
    {
      "cell_type": "code",
      "source": [
        "from AIFeynman.Code.S_run_aifeynman import run_aifeynman"
      ],
      "metadata": {
        "id": "wAfuwcXZ68Hm"
      },
      "execution_count": 50,
      "outputs": []
    },
    {
      "cell_type": "code",
      "source": [
        "# Run example 1 as the regression dataset\n",
        "run_aifeynman(\"/content/AI-Feynman/example_data/\",\"example1.txt\",30,\"14ops.txt\", polyfit_deg=3, NN_epochs=400)"
      ],
      "metadata": {
        "colab": {
          "base_uri": "https://localhost:8080/",
          "height": 1000
        },
        "id": "ajKbO3g92QIq",
        "outputId": "7517f3bc-ab6e-48c8-914b-cb9e46d52a3b"
      },
      "execution_count": 51,
      "outputs": [
        {
          "output_type": "stream",
          "name": "stdout",
          "text": [
            "Checking for brute force + \n",
            "\n",
            "Trying to solve mysteries with brute force...\n",
            "Trying to solve /content/AI-Feynman/example_data/example1.txt_train\n",
            "Checking for brute force * \n",
            "\n",
            "Trying to solve mysteries with brute force...\n",
            "Trying to solve /content/AI-Feynman/example_data/example1.txt_train\n",
            "Checking polyfit \n",
            "\n",
            "Pareto frontier in the current branch:\n",
            "\n",
            "Complexity #  MDL Loss #  Expression\n",
            "0.0 30.83 0\n",
            "73.57 26.77 0.2*x0**2 - 0.444444444444444*x0*x1 + 0.111111111111111*x0 + 0.2*x1**2 + 0.166666666666667*x1 + 0.2*x2**2 - 0.444444444444444*x2*x3 + 0.166666666666667*x2 + 0.2*x3**2 + 0.142857142857143*x3 + 0.142857142857143\n",
            "113.56 26.72 0.2*x0**2 - 0.444444444444444*x0*x1 + 0.111111111111111*x0 + 0.2*x1**2 + 0.166666666666667*x1 + 0.2*x2**2 - 0.444444444444444*x2*x3 + 0.166666666666667*x2 + 0.2*x3**2 + 0.153447919691374*x3 + 0.142857142857143\n",
            "193.66 26.69 0.2*x0**2 - 0.442033025205043*x0*x1 + 0.111111111111111*x0 + 0.2*x1**2 + 0.157737665371034*x1 + 0.2*x2**2 - 0.444444444444444*x2*x3 + 0.166666666666667*x2 + 0.2*x3**2 + 0.153447919691374*x3 + 0.142857142857143\n",
            "\n",
            "Checking for brute force + \n",
            "\n",
            "Trying to solve mysteries with brute force...\n",
            "Trying to solve results/mystery_world_squared/example1.txt_train\n",
            "Checking for brute force * \n",
            "\n",
            "Trying to solve mysteries with brute force...\n",
            "Trying to solve results/mystery_world_squared/example1.txt_train\n",
            "Checking polyfit \n",
            "\n",
            "Pareto frontier in the current branch:\n",
            "\n",
            "Complexity #  MDL Loss #  Expression\n",
            "0.0 30.83 0\n",
            "1.0 29.66 1\n",
            "35.51 0.0 (x0**2 - 2*x0*x1 + x1**2 + x2**2 - 2*x2*x3 + x3**2)**0.5\n",
            "\n",
            "Checking for brute force + \n",
            "\n",
            "Trying to solve mysteries with brute force...\n",
            "Trying to solve results/mystery_world_atan/example1.txt_train\n",
            "Checking for brute force * \n",
            "\n",
            "Trying to solve mysteries with brute force...\n",
            "Trying to solve results/mystery_world_atan/example1.txt_train\n",
            "Checking polyfit \n",
            "\n",
            "Pareto frontier in the current branch:\n",
            "\n",
            "Complexity #  MDL Loss #  Expression\n",
            "0.0 30.83 0\n",
            "1.0 29.66 1\n",
            "35.51 0.0 (x0**2 - 2*x0*x1 + x1**2 + x2**2 - 2*x2*x3 + x3**2)**0.5\n",
            "\n",
            "Checking for brute force + \n",
            "\n",
            "Trying to solve mysteries with brute force...\n",
            "Trying to solve results/mystery_world_cos/example1.txt_train\n",
            "Checking for brute force * \n",
            "\n",
            "Trying to solve mysteries with brute force...\n",
            "Trying to solve results/mystery_world_cos/example1.txt_train\n",
            "Checking polyfit \n",
            "\n",
            "Pareto frontier in the current branch:\n",
            "\n",
            "Complexity #  MDL Loss #  Expression\n",
            "0.0 30.83 0\n",
            "1.0 29.66 1\n",
            "35.51 0.0 (x0**2 - 2*x0*x1 + x1**2 + x2**2 - 2*x2*x3 + x3**2)**0.5\n",
            "\n",
            "Checking for brute force + \n",
            "\n",
            "Trying to solve mysteries with brute force...\n",
            "Trying to solve results/mystery_world_exp/example1.txt_train\n",
            "Checking for brute force * \n",
            "\n",
            "Trying to solve mysteries with brute force...\n",
            "Trying to solve results/mystery_world_exp/example1.txt_train\n",
            "Checking polyfit \n",
            "\n",
            "Pareto frontier in the current branch:\n",
            "\n",
            "Complexity #  MDL Loss #  Expression\n",
            "0.0 30.83 0\n",
            "1.0 29.66 1\n",
            "35.51 0.0 (x0**2 - 2*x0*x1 + x1**2 + x2**2 - 2*x2*x3 + x3**2)**0.5\n",
            "\n",
            "Checking for brute force + \n",
            "\n",
            "Trying to solve mysteries with brute force...\n",
            "Trying to solve results/mystery_world_inverse/example1.txt_train\n",
            "Checking for brute force * \n",
            "\n",
            "Trying to solve mysteries with brute force...\n",
            "Trying to solve results/mystery_world_inverse/example1.txt_train\n",
            "Checking polyfit \n",
            "\n",
            "Pareto frontier in the current branch:\n",
            "\n",
            "Complexity #  MDL Loss #  Expression\n",
            "0.0 30.83 0\n",
            "1.0 29.66 1\n",
            "35.51 0.0 (x0**2 - 2*x0*x1 + x1**2 + x2**2 - 2*x2*x3 + x3**2)**0.5\n",
            "\n",
            "Checking for brute force + \n",
            "\n",
            "Trying to solve mysteries with brute force...\n",
            "Trying to solve results/mystery_world_log/example1.txt_train\n",
            "Checking for brute force * \n",
            "\n",
            "Trying to solve mysteries with brute force...\n",
            "Trying to solve results/mystery_world_log/example1.txt_train\n",
            "Checking polyfit \n",
            "\n",
            "Pareto frontier in the current branch:\n",
            "\n",
            "Complexity #  MDL Loss #  Expression\n",
            "0.0 30.83 0\n",
            "1.0 29.66 1\n",
            "35.51 0.0 (x0**2 - 2*x0*x1 + x1**2 + x2**2 - 2*x2*x3 + x3**2)**0.5\n",
            "\n",
            "Checking for brute force + \n",
            "\n",
            "Trying to solve mysteries with brute force...\n",
            "Trying to solve results/mystery_world_sin/example1.txt_train\n",
            "Checking for brute force * \n",
            "\n",
            "Trying to solve mysteries with brute force...\n",
            "Trying to solve results/mystery_world_sin/example1.txt_train\n",
            "Checking polyfit \n",
            "\n",
            "Pareto frontier in the current branch:\n",
            "\n",
            "Complexity #  MDL Loss #  Expression\n",
            "0.0 30.83 0\n",
            "1.0 29.66 1\n",
            "35.51 0.0 (x0**2 - 2*x0*x1 + x1**2 + x2**2 - 2*x2*x3 + x3**2)**0.5\n",
            "\n",
            "Checking for brute force + \n",
            "\n",
            "Trying to solve mysteries with brute force...\n",
            "Trying to solve results/mystery_world_sqrt/example1.txt_train\n",
            "Checking for brute force * \n",
            "\n",
            "Trying to solve mysteries with brute force...\n",
            "Trying to solve results/mystery_world_sqrt/example1.txt_train\n",
            "Checking polyfit \n",
            "\n",
            "Pareto frontier in the current branch:\n",
            "\n",
            "Complexity #  MDL Loss #  Expression\n",
            "0.0 30.83 0\n",
            "1.0 29.66 1\n",
            "35.51 0.0 (x0**2 - 2*x0*x1 + x1**2 + x2**2 - 2*x2*x3 + x3**2)**0.5\n",
            "\n",
            "Checking for brute force + \n",
            "\n",
            "Trying to solve mysteries with brute force...\n",
            "Trying to solve results/mystery_world_squared/example1.txt_train\n",
            "Checking for brute force * \n",
            "\n",
            "Trying to solve mysteries with brute force...\n",
            "Trying to solve results/mystery_world_squared/example1.txt_train\n",
            "Checking polyfit \n",
            "\n",
            "Pareto frontier in the current branch:\n",
            "\n",
            "Complexity #  MDL Loss #  Expression\n",
            "0.0 30.83 0\n",
            "1.0 29.66 1\n",
            "35.51 0.0 (x0**2 - 2*x0*x1 + x1**2 + x2**2 - 2*x2*x3 + x3**2)**0.5\n",
            "\n",
            "Checking for brute force + \n",
            "\n",
            "Trying to solve mysteries with brute force...\n",
            "Trying to solve results/mystery_world_tan/example1.txt_train\n",
            "Checking for brute force * \n",
            "\n",
            "Trying to solve mysteries with brute force...\n",
            "Trying to solve results/mystery_world_tan/example1.txt_train\n",
            "Checking polyfit \n",
            "\n",
            "Pareto frontier in the current branch:\n",
            "\n",
            "Complexity #  MDL Loss #  Expression\n",
            "0.0 30.83 0\n",
            "1.0 29.66 1\n",
            "35.51 0.0 (x0**2 - 2*x0*x1 + x1**2 + x2**2 - 2*x2*x3 + x3**2)**0.5\n",
            "\n",
            "Training a NN on the data... \n",
            "\n",
            "NN loss:  (tensor(0.0008, grad_fn=<DivBackward0>), SimpleNet(\n",
            "  (linear1): Linear(in_features=4, out_features=128, bias=True)\n",
            "  (linear2): Linear(in_features=128, out_features=128, bias=True)\n",
            "  (linear3): Linear(in_features=128, out_features=64, bias=True)\n",
            "  (linear4): Linear(in_features=64, out_features=64, bias=True)\n",
            "  (linear5): Linear(in_features=64, out_features=1, bias=True)\n",
            ")) \n",
            "\n",
            "Checking for symmetries...\n",
            "\n",
            "Checking for separabilities...\n",
            "\n",
            "Checking for compositionality...\n",
            "\n",
            "Checking for generalized symmetry...\n",
            "identify_decompositions /content/AI-Feynman/example_data/ example1.txt_train\n",
            "Trying (0, 1)\n",
            "(5.063132173650078, (0, 1))\n",
            "Trying (0, 2)\n",
            "(-0.16386184609507803, (0, 2))\n",
            "Trying (0, 3)\n",
            "(-0.15771393912046172, (0, 3))\n",
            "Trying (1, 2)\n",
            "(-0.1635830589079184, (1, 2))\n",
            "Trying (1, 3)\n",
            "(-0.1717948290932388, (1, 3))\n",
            "Trying (2, 3)\n",
            "(5.21439147831149, (2, 3))\n",
            "Trying (0, 1, 2)\n",
            "(-0.04231784281335094, (0, 1, 2))\n",
            "Trying (0, 1, 3)\n",
            "(-0.07016130371982343, (0, 1, 3))\n",
            "Trying (0, 2, 3)\n",
            "(-0.05721889657872459, (0, 2, 3))\n",
            "Trying (1, 2, 3)\n",
            "(-0.09435539465700549, (1, 2, 3))\n",
            "mask [False False  True  True]\n",
            "Trying to solve mysteries with brute force...\n",
            "Trying to solve results/gradients_gen_sym_example1.txt_train\n"
          ]
        },
        {
          "output_type": "error",
          "ename": "OSError",
          "evalue": "ignored",
          "traceback": [
            "\u001b[0;31m---------------------------------------------------------------------------\u001b[0m",
            "\u001b[0;31mOSError\u001b[0m                                   Traceback (most recent call last)",
            "\u001b[0;32m<ipython-input-51-006753773b63>\u001b[0m in \u001b[0;36m<module>\u001b[0;34m()\u001b[0m\n\u001b[1;32m      1\u001b[0m \u001b[0;31m# Run example 1 as the regression dataset\u001b[0m\u001b[0;34m\u001b[0m\u001b[0;34m\u001b[0m\u001b[0;34m\u001b[0m\u001b[0m\n\u001b[0;32m----> 2\u001b[0;31m \u001b[0mrun_aifeynman\u001b[0m\u001b[0;34m(\u001b[0m\u001b[0;34m\"/content/AI-Feynman/example_data/\"\u001b[0m\u001b[0;34m,\u001b[0m\u001b[0;34m\"example1.txt\"\u001b[0m\u001b[0;34m,\u001b[0m\u001b[0;36m30\u001b[0m\u001b[0;34m,\u001b[0m\u001b[0;34m\"14ops.txt\"\u001b[0m\u001b[0;34m,\u001b[0m \u001b[0mpolyfit_deg\u001b[0m\u001b[0;34m=\u001b[0m\u001b[0;36m3\u001b[0m\u001b[0;34m,\u001b[0m \u001b[0mNN_epochs\u001b[0m\u001b[0;34m=\u001b[0m\u001b[0;36m400\u001b[0m\u001b[0;34m)\u001b[0m\u001b[0;34m\u001b[0m\u001b[0;34m\u001b[0m\u001b[0m\n\u001b[0m",
            "\u001b[0;32m/content/AIFeynman/Code/S_run_aifeynman.py\u001b[0m in \u001b[0;36mrun_aifeynman\u001b[0;34m(pathdir, filename, BF_try_time, BF_ops_file_type, polyfit_deg, NN_epochs, vars_name, test_percentage)\u001b[0m\n",
            "\u001b[0;32m/content/AIFeynman/Code/S_run_aifeynman.py\u001b[0m in \u001b[0;36mrun_AI_all\u001b[0;34m(pathdir, filename, BF_try_time, BF_ops_file_type, polyfit_deg, NN_epochs, PA)\u001b[0m\n",
            "\u001b[0;32m/usr/local/lib/python3.7/dist-packages/numpy/lib/npyio.py\u001b[0m in \u001b[0;36mloadtxt\u001b[0;34m(fname, dtype, comments, delimiter, converters, skiprows, usecols, unpack, ndmin, encoding, max_rows, like)\u001b[0m\n\u001b[1;32m   1065\u001b[0m             \u001b[0mfname\u001b[0m \u001b[0;34m=\u001b[0m \u001b[0mos_fspath\u001b[0m\u001b[0;34m(\u001b[0m\u001b[0mfname\u001b[0m\u001b[0;34m)\u001b[0m\u001b[0;34m\u001b[0m\u001b[0;34m\u001b[0m\u001b[0m\n\u001b[1;32m   1066\u001b[0m         \u001b[0;32mif\u001b[0m \u001b[0m_is_string_like\u001b[0m\u001b[0;34m(\u001b[0m\u001b[0mfname\u001b[0m\u001b[0;34m)\u001b[0m\u001b[0;34m:\u001b[0m\u001b[0;34m\u001b[0m\u001b[0;34m\u001b[0m\u001b[0m\n\u001b[0;32m-> 1067\u001b[0;31m             \u001b[0mfh\u001b[0m \u001b[0;34m=\u001b[0m \u001b[0mnp\u001b[0m\u001b[0;34m.\u001b[0m\u001b[0mlib\u001b[0m\u001b[0;34m.\u001b[0m\u001b[0m_datasource\u001b[0m\u001b[0;34m.\u001b[0m\u001b[0mopen\u001b[0m\u001b[0;34m(\u001b[0m\u001b[0mfname\u001b[0m\u001b[0;34m,\u001b[0m \u001b[0;34m'rt'\u001b[0m\u001b[0;34m,\u001b[0m \u001b[0mencoding\u001b[0m\u001b[0;34m=\u001b[0m\u001b[0mencoding\u001b[0m\u001b[0;34m)\u001b[0m\u001b[0;34m\u001b[0m\u001b[0;34m\u001b[0m\u001b[0m\n\u001b[0m\u001b[1;32m   1068\u001b[0m             \u001b[0mfencoding\u001b[0m \u001b[0;34m=\u001b[0m \u001b[0mgetattr\u001b[0m\u001b[0;34m(\u001b[0m\u001b[0mfh\u001b[0m\u001b[0;34m,\u001b[0m \u001b[0;34m'encoding'\u001b[0m\u001b[0;34m,\u001b[0m \u001b[0;34m'latin1'\u001b[0m\u001b[0;34m)\u001b[0m\u001b[0;34m\u001b[0m\u001b[0;34m\u001b[0m\u001b[0m\n\u001b[1;32m   1069\u001b[0m             \u001b[0mfh\u001b[0m \u001b[0;34m=\u001b[0m \u001b[0miter\u001b[0m\u001b[0;34m(\u001b[0m\u001b[0mfh\u001b[0m\u001b[0;34m)\u001b[0m\u001b[0;34m\u001b[0m\u001b[0;34m\u001b[0m\u001b[0m\n",
            "\u001b[0;32m/usr/local/lib/python3.7/dist-packages/numpy/lib/_datasource.py\u001b[0m in \u001b[0;36mopen\u001b[0;34m(path, mode, destpath, encoding, newline)\u001b[0m\n\u001b[1;32m    191\u001b[0m \u001b[0;34m\u001b[0m\u001b[0m\n\u001b[1;32m    192\u001b[0m     \u001b[0mds\u001b[0m \u001b[0;34m=\u001b[0m \u001b[0mDataSource\u001b[0m\u001b[0;34m(\u001b[0m\u001b[0mdestpath\u001b[0m\u001b[0;34m)\u001b[0m\u001b[0;34m\u001b[0m\u001b[0;34m\u001b[0m\u001b[0m\n\u001b[0;32m--> 193\u001b[0;31m     \u001b[0;32mreturn\u001b[0m \u001b[0mds\u001b[0m\u001b[0;34m.\u001b[0m\u001b[0mopen\u001b[0m\u001b[0;34m(\u001b[0m\u001b[0mpath\u001b[0m\u001b[0;34m,\u001b[0m \u001b[0mmode\u001b[0m\u001b[0;34m,\u001b[0m \u001b[0mencoding\u001b[0m\u001b[0;34m=\u001b[0m\u001b[0mencoding\u001b[0m\u001b[0;34m,\u001b[0m \u001b[0mnewline\u001b[0m\u001b[0;34m=\u001b[0m\u001b[0mnewline\u001b[0m\u001b[0;34m)\u001b[0m\u001b[0;34m\u001b[0m\u001b[0;34m\u001b[0m\u001b[0m\n\u001b[0m\u001b[1;32m    194\u001b[0m \u001b[0;34m\u001b[0m\u001b[0m\n\u001b[1;32m    195\u001b[0m \u001b[0;34m\u001b[0m\u001b[0m\n",
            "\u001b[0;32m/usr/local/lib/python3.7/dist-packages/numpy/lib/_datasource.py\u001b[0m in \u001b[0;36mopen\u001b[0;34m(self, path, mode, encoding, newline)\u001b[0m\n\u001b[1;32m    531\u001b[0m                                       encoding=encoding, newline=newline)\n\u001b[1;32m    532\u001b[0m         \u001b[0;32melse\u001b[0m\u001b[0;34m:\u001b[0m\u001b[0;34m\u001b[0m\u001b[0;34m\u001b[0m\u001b[0m\n\u001b[0;32m--> 533\u001b[0;31m             \u001b[0;32mraise\u001b[0m \u001b[0mIOError\u001b[0m\u001b[0;34m(\u001b[0m\u001b[0;34m\"%s not found.\"\u001b[0m \u001b[0;34m%\u001b[0m \u001b[0mpath\u001b[0m\u001b[0;34m)\u001b[0m\u001b[0;34m\u001b[0m\u001b[0;34m\u001b[0m\u001b[0m\n\u001b[0m\u001b[1;32m    534\u001b[0m \u001b[0;34m\u001b[0m\u001b[0m\n\u001b[1;32m    535\u001b[0m \u001b[0;34m\u001b[0m\u001b[0m\n",
            "\u001b[0;31mOSError\u001b[0m: results_gen_sym.dat not found."
          ]
        }
      ]
    },
    {
      "cell_type": "code",
      "source": [
        ""
      ],
      "metadata": {
        "id": "1VFfIfnH2qEW"
      },
      "execution_count": null,
      "outputs": []
    }
  ]
}